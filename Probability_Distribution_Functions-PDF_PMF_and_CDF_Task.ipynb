{
 "cells": [
  {
   "cell_type": "markdown",
   "metadata": {
    "id": "nieEea30Wlz3"
   },
   "source": [
    "Insurance Dataset : https://docs.google.com/spreadsheets/d/1dAc3E4U-gBzihJ6HLM2kYVDAqQthdReg20zwwaplTW8/edit?usp=share_link"
   ]
  },
  {
   "cell_type": "markdown",
   "metadata": {
    "id": "xqVRivTdWo2R"
   },
   "source": [
    "### Q-1: What is the probability distribution of age in the insurance dataset?\n",
    "\n",
    "-- Find out using the KDE method"
   ]
  },
  {
   "cell_type": "code",
   "execution_count": 208,
   "metadata": {
    "id": "ovezru56WtTV",
    "scrolled": false
   },
   "outputs": [
    {
     "data": {
      "text/html": [
       "<div>\n",
       "<style scoped>\n",
       "    .dataframe tbody tr th:only-of-type {\n",
       "        vertical-align: middle;\n",
       "    }\n",
       "\n",
       "    .dataframe tbody tr th {\n",
       "        vertical-align: top;\n",
       "    }\n",
       "\n",
       "    .dataframe thead th {\n",
       "        text-align: right;\n",
       "    }\n",
       "</style>\n",
       "<table border=\"1\" class=\"dataframe\">\n",
       "  <thead>\n",
       "    <tr style=\"text-align: right;\">\n",
       "      <th></th>\n",
       "      <th>index</th>\n",
       "      <th>PatientID</th>\n",
       "      <th>age</th>\n",
       "      <th>gender</th>\n",
       "      <th>bmi</th>\n",
       "      <th>bloodpressure</th>\n",
       "      <th>diabetic</th>\n",
       "      <th>children</th>\n",
       "      <th>smoker</th>\n",
       "      <th>region</th>\n",
       "      <th>claim</th>\n",
       "    </tr>\n",
       "  </thead>\n",
       "  <tbody>\n",
       "    <tr>\n",
       "      <th>0</th>\n",
       "      <td>0</td>\n",
       "      <td>1</td>\n",
       "      <td>39.0</td>\n",
       "      <td>male</td>\n",
       "      <td>23.2</td>\n",
       "      <td>91</td>\n",
       "      <td>Yes</td>\n",
       "      <td>0</td>\n",
       "      <td>No</td>\n",
       "      <td>southeast</td>\n",
       "      <td>1121.87</td>\n",
       "    </tr>\n",
       "    <tr>\n",
       "      <th>1</th>\n",
       "      <td>1</td>\n",
       "      <td>2</td>\n",
       "      <td>24.0</td>\n",
       "      <td>male</td>\n",
       "      <td>30.1</td>\n",
       "      <td>87</td>\n",
       "      <td>No</td>\n",
       "      <td>0</td>\n",
       "      <td>No</td>\n",
       "      <td>southeast</td>\n",
       "      <td>1131.51</td>\n",
       "    </tr>\n",
       "    <tr>\n",
       "      <th>2</th>\n",
       "      <td>2</td>\n",
       "      <td>3</td>\n",
       "      <td>NaN</td>\n",
       "      <td>male</td>\n",
       "      <td>33.3</td>\n",
       "      <td>82</td>\n",
       "      <td>Yes</td>\n",
       "      <td>0</td>\n",
       "      <td>No</td>\n",
       "      <td>southeast</td>\n",
       "      <td>1135.94</td>\n",
       "    </tr>\n",
       "    <tr>\n",
       "      <th>3</th>\n",
       "      <td>3</td>\n",
       "      <td>4</td>\n",
       "      <td>NaN</td>\n",
       "      <td>male</td>\n",
       "      <td>33.7</td>\n",
       "      <td>80</td>\n",
       "      <td>No</td>\n",
       "      <td>0</td>\n",
       "      <td>No</td>\n",
       "      <td>northwest</td>\n",
       "      <td>1136.40</td>\n",
       "    </tr>\n",
       "    <tr>\n",
       "      <th>4</th>\n",
       "      <td>4</td>\n",
       "      <td>5</td>\n",
       "      <td>NaN</td>\n",
       "      <td>male</td>\n",
       "      <td>34.1</td>\n",
       "      <td>100</td>\n",
       "      <td>No</td>\n",
       "      <td>0</td>\n",
       "      <td>No</td>\n",
       "      <td>northwest</td>\n",
       "      <td>1137.01</td>\n",
       "    </tr>\n",
       "  </tbody>\n",
       "</table>\n",
       "</div>"
      ],
      "text/plain": [
       "   index  PatientID   age gender   bmi  bloodpressure diabetic  children  \\\n",
       "0      0          1  39.0   male  23.2             91      Yes         0   \n",
       "1      1          2  24.0   male  30.1             87       No         0   \n",
       "2      2          3   NaN   male  33.3             82      Yes         0   \n",
       "3      3          4   NaN   male  33.7             80       No         0   \n",
       "4      4          5   NaN   male  34.1            100       No         0   \n",
       "\n",
       "  smoker     region    claim  \n",
       "0     No  southeast  1121.87  \n",
       "1     No  southeast  1131.51  \n",
       "2     No  southeast  1135.94  \n",
       "3     No  northwest  1136.40  \n",
       "4     No  northwest  1137.01  "
      ]
     },
     "execution_count": 208,
     "metadata": {},
     "output_type": "execute_result"
    }
   ],
   "source": [
    "# code here\n",
    "import pandas as pd\n",
    "import numpy as np\n",
    "df = pd.read_csv('insurance_data.csv')\n",
    "df.head()"
   ]
  },
  {
   "cell_type": "code",
   "execution_count": 198,
   "metadata": {},
   "outputs": [
    {
     "name": "stdout",
     "output_type": "stream",
     "text": [
      "<class 'pandas.core.frame.DataFrame'>\n",
      "RangeIndex: 1340 entries, 0 to 1339\n",
      "Data columns (total 11 columns):\n",
      " #   Column         Non-Null Count  Dtype  \n",
      "---  ------         --------------  -----  \n",
      " 0   index          1340 non-null   int64  \n",
      " 1   PatientID      1340 non-null   int64  \n",
      " 2   age            1335 non-null   float64\n",
      " 3   gender         1340 non-null   object \n",
      " 4   bmi            1340 non-null   float64\n",
      " 5   bloodpressure  1340 non-null   int64  \n",
      " 6   diabetic       1340 non-null   object \n",
      " 7   children       1340 non-null   int64  \n",
      " 8   smoker         1340 non-null   object \n",
      " 9   region         1337 non-null   object \n",
      " 10  claim          1340 non-null   float64\n",
      "dtypes: float64(3), int64(4), object(4)\n",
      "memory usage: 115.3+ KB\n"
     ]
    }
   ],
   "source": [
    "df.info()"
   ]
  },
  {
   "cell_type": "code",
   "execution_count": 18,
   "metadata": {},
   "outputs": [],
   "source": [
    "df.age.fillna(df.age.mean(),inplace=True)"
   ]
  },
  {
   "cell_type": "code",
   "execution_count": 57,
   "metadata": {},
   "outputs": [
    {
     "data": {
      "text/plain": [
       "KernelDensity(bandwidth=2)"
      ]
     },
     "execution_count": 57,
     "metadata": {},
     "output_type": "execute_result"
    }
   ],
   "source": [
    "from sklearn.neighbors import KernelDensity\n",
    "sample = df.age.values.reshape(len(df.age),1)\n",
    "model = KernelDensity(bandwidth=2,kernel='gaussian')\n",
    "model.fit(sample)"
   ]
  },
  {
   "cell_type": "code",
   "execution_count": 58,
   "metadata": {},
   "outputs": [],
   "source": [
    "values = np.linspace(sample.max(),sample.min(),500)\n",
    "values = values.reshape(len(values),1)"
   ]
  },
  {
   "cell_type": "code",
   "execution_count": 59,
   "metadata": {},
   "outputs": [],
   "source": [
    "probabilities = model.score_samples(values)\n",
    "probabilities = np.exp(probabilities)"
   ]
  },
  {
   "cell_type": "code",
   "execution_count": 60,
   "metadata": {},
   "outputs": [
    {
     "data": {
      "text/plain": [
       "[]"
      ]
     },
     "execution_count": 60,
     "metadata": {},
     "output_type": "execute_result"
    },
    {
     "data": {
      "image/png": "[encoded data removed]",
      "text/plain": [
       "<Figure size 432x288 with 1 Axes>"
      ]
     },
     "metadata": {
      "needs_background": "light"
     },
     "output_type": "display_data"
    }
   ],
   "source": [
    "import matplotlib.pyplot as plt\n",
    "import seaborn as sns\n",
    "plt.hist(df.age,density=True)\n",
    "plt.plot(values[:],probabilities)\n",
    "plt.plot()"
   ]
  },
  {
   "cell_type": "markdown",
   "metadata": {
    "id": "iE6_LBUJWy6a"
   },
   "source": [
    "### Q-2: What is the probability of a patient having a BMI greater than 30?"
   ]
  },
  {
   "cell_type": "markdown",
   "metadata": {},
   "source": [
    "We can calculate the probability of a patient having a BMI greater than 30 by counting the number of patients with a BMI greater than 30 and dividing by the total number of patients in the dataset."
   ]
  },
  {
   "cell_type": "code",
   "execution_count": 171,
   "metadata": {},
   "outputs": [
    {
     "name": "stdout",
     "output_type": "stream",
     "text": [
      "0.5220643231114436\n"
     ]
    }
   ],
   "source": [
    "bmi_greater_than_30 = df[df['bmi'] > 30]\n",
    "probability_bmi_greater_than_30 = len(bmi_greater_than_30) / len(df)\n",
    "print(probability_bmi_greater_than_30)"
   ]
  },
  {
   "cell_type": "markdown",
   "metadata": {
    "id": "w0UpCn9IW32E"
   },
   "source": [
    "### Q-3: Plot distribution plot of claim for Smoker and non smoker. What changes you see in the plot?"
   ]
  },
  {
   "cell_type": "code",
   "execution_count": 172,
   "metadata": {},
   "outputs": [
    {
     "data": {
      "text/plain": [
       "<AxesSubplot:xlabel='claim', ylabel='Count'>"
      ]
     },
     "execution_count": 172,
     "metadata": {},
     "output_type": "execute_result"
    },
    {
     "data": {
      "image/png": "[encoded data removed]",
      "text/plain": [
       "<Figure size 432x288 with 1 Axes>"
      ]
     },
     "metadata": {
      "needs_background": "light"
     },
     "output_type": "display_data"
    }
   ],
   "source": [
    "# code here\n",
    "sns.histplot(df, x='claim', kde=True, hue='smoker')"
   ]
  },
  {
   "cell_type": "markdown",
   "metadata": {},
   "source": [
    "* Claim for non smoker is lesser than smokers.\n",
    "* Most Claims of non smokers lies in range 0-15000, and Smoker's claims are greater than 15000"
   ]
  },
  {
   "cell_type": "markdown",
   "metadata": {
    "id": "dEWVG-w0XAis"
   },
   "source": [
    "### Q-4: Plot the 2D probability density plot of claim and age in the insurance dataset?"
   ]
  },
  {
   "cell_type": "code",
   "execution_count": 175,
   "metadata": {
    "id": "R3FCqXhsXDBM"
   },
   "outputs": [
    {
     "name": "stderr",
     "output_type": "stream",
     "text": [
      "C:\\Users\\Aniket\\anaconda3\\lib\\site-packages\\seaborn\\_decorators.py:36: FutureWarning: Pass the following variable as a keyword arg: y. From version 0.12, the only valid positional argument will be `data`, and passing other arguments without an explicit keyword will result in an error or misinterpretation.\n",
      "  warnings.warn(\n"
     ]
    },
    {
     "data": {
      "text/plain": [
       "<AxesSubplot:xlabel='age', ylabel='claim'>"
      ]
     },
     "execution_count": 175,
     "metadata": {},
     "output_type": "execute_result"
    },
    {
     "data": {
      "image/png": "[encoded data removed]",
      "text/plain": [
       "<Figure size 432x288 with 1 Axes>"
      ]
     },
     "metadata": {
      "needs_background": "light"
     },
     "output_type": "display_data"
    }
   ],
   "source": [
    "# code here\n",
    "sns.kdeplot(df.age,df.claim,cmap='Blues',fill=True)"
   ]
  },
  {
   "cell_type": "markdown",
   "metadata": {
    "id": "SeQZqW49XEUI"
   },
   "source": [
    "### Q-5: How does the disribution of claim changes for different region? Plot density plot and note down the observations"
   ]
  },
  {
   "cell_type": "code",
   "execution_count": 211,
   "metadata": {},
   "outputs": [],
   "source": [
    "df.dropna(inplace=True)"
   ]
  },
  {
   "cell_type": "code",
   "execution_count": 210,
   "metadata": {
    "id": "g2ODtuZDXI1k",
    "scrolled": true
   },
   "outputs": [
    {
     "data": {
      "text/plain": [
       "<AxesSubplot:xlabel='claim', ylabel='Density'>"
      ]
     },
     "execution_count": 210,
     "metadata": {},
     "output_type": "execute_result"
    },
    {
     "data": {
      "image/png": "[encoded data removed]",
      "text/plain": [
       "<Figure size 432x288 with 1 Axes>"
      ]
     },
     "metadata": {
      "needs_background": "light"
     },
     "output_type": "display_data"
    }
   ],
   "source": [
    "# code here\n",
    "df['region'] = df['region'].astype('str')\n",
    "sns.kdeplot(data=df,x='claim',hue='region')"
   ]
  },
  {
   "cell_type": "markdown",
   "metadata": {},
   "source": [
    "* Leaving northeast, all other regions have high density around same claim amount.\n",
    "* All regions follow same trends of claims, global peak around 6000-10000 and a local peak around 4000\n",
    "- Northeast claims amount is higher maybe because of rich cities of America like New York, Chicago\n",
    "- Most claims are between 0-15000 dollars"
   ]
  },
  {
   "cell_type": "markdown",
   "metadata": {
    "id": "pvWXyU1ZXKJY"
   },
   "source": [
    "### Q6: Plot PDF and CDF of claim in insurance data"
   ]
  },
  {
   "cell_type": "code",
   "execution_count": 195,
   "metadata": {},
   "outputs": [
    {
     "data": {
      "image/png": "[encoded data removed]",
      "text/plain": [
       "<Figure size 432x288 with 1 Axes>"
      ]
     },
     "metadata": {
      "needs_background": "light"
     },
     "output_type": "display_data"
    }
   ],
   "source": [
    "# Approach 1 - Histogram approach to which distribution follows\n",
    "claim_data = df.claim\n",
    "bins = 30  # Number of bins for histogram\n",
    "density, bins, _ = plt.hist(claim_data, bins=bins, density=True, alpha=0.5)"
   ]
  },
  {
   "cell_type": "code",
   "execution_count": 196,
   "metadata": {
    "id": "At7Qt45YXMio",
    "scrolled": true
   },
   "outputs": [
    {
     "data": {
      "image/png": "[encoded data removed]",
      "text/plain": [
       "<Figure size 720x288 with 2 Axes>"
      ]
     },
     "metadata": {
      "needs_background": "light"
     },
     "output_type": "display_data"
    }
   ],
   "source": [
    "# code here\n",
    "# Generate sample data (replace with your actual data)\n",
    "data = claim_data\n",
    "\n",
    "\n",
    "plt.figure(figsize=(10, 4))\n",
    "\n",
    "# Plot PDF using KDE\n",
    "plt.subplot(1, 2, 1)\n",
    "sns.kdeplot(data)\n",
    "plt.xlabel('Variable')\n",
    "plt.ylabel('Density')\n",
    "plt.title('Probability Density Function (PDF)')\n",
    "\n",
    "# Plot CDF using cumulative sum of KDE\n",
    "plt.subplot(1, 2, 2)\n",
    "sns.kdeplot(data, cumulative=True)\n",
    "plt.xlabel('Variable')\n",
    "plt.ylabel('Cumulative Probability')\n",
    "plt.title('Cumulative Distribution Function (CDF)')\n",
    "\n",
    "# Adjust layout and display the plots\n",
    "plt.tight_layout()\n",
    "plt.show()\n",
    "# NOn Parametric Approach"
   ]
  },
  {
   "cell_type": "markdown",
   "metadata": {
    "id": "F2HPgH0QXOIl"
   },
   "source": [
    "### Q-7: Given a probability density function f(x) = 2x for 0 <= x <= 1 and f(x) = 0 otherwise, compute the cumulative distribution function F(x) and plot it. Use this to find the probability that X is greater than 0.5."
   ]
  },
  {
   "cell_type": "code",
   "execution_count": 216,
   "metadata": {
    "id": "rTarUNMoXVTN"
   },
   "outputs": [
    {
     "data": {
      "image/png": "[encoded data removed]",
      "text/plain": [
       "<Figure size 432x288 with 1 Axes>"
      ]
     },
     "metadata": {
      "needs_background": "light"
     },
     "output_type": "display_data"
    },
    {
     "name": "stdout",
     "output_type": "stream",
     "text": [
      "Probability that X is greater than 0.5: 0.75\n"
     ]
    }
   ],
   "source": [
    "# code here\n",
    "# Solution\n",
    "\n",
    "import numpy as np\n",
    "import matplotlib.pyplot as plt\n",
    "\n",
    "# Define the probability density function (PDF)\n",
    "def pdf(x):\n",
    "    if 0 <= x <= 1:\n",
    "        return 2 * x\n",
    "    else:\n",
    "        return 0\n",
    "\n",
    "# Define the cumulative distribution function (CDF)\n",
    "def cdf(x):\n",
    "    if x < 0:\n",
    "        return 0\n",
    "    elif 0 <= x <= 1:\n",
    "        return x ** 2\n",
    "    else:\n",
    "        return 1\n",
    "\n",
    "# Generate a range of x values from 0 to 1\n",
    "x = np.linspace(0, 1, 100)\n",
    "\n",
    "# Calculate the corresponding CDF values\n",
    "y_cdf = np.array([cdf(xi) for xi in x])\n",
    "\n",
    "# Plot the CDF\n",
    "plt.plot(x, y_cdf)\n",
    "plt.xlabel('x')\n",
    "plt.ylabel('F(x)')\n",
    "plt.title('Cumulative Distribution Function (CDF)')\n",
    "plt.grid(True)\n",
    "plt.show()\n",
    "\n",
    "# Calculate the probability that X is greater than 0.5\n",
    "p_x_gt_0_5 = 1 - cdf(0.5)\n",
    "print(\"Probability that X is greater than 0.5:\", p_x_gt_0_5)\n"
   ]
  },
  {
   "cell_type": "markdown",
   "metadata": {
    "id": "2djTE_ZCXWiZ"
   },
   "source": [
    "### Q-8: In a manufacturing process, the thickness of a certain material is known to be normally distributed with a mean of 1.2 mm and a standard deviation of 0.05 mm. What is the probability density function of the thickness? Plot the PDF and use it to compute the probability that the thickness is between 1.1 mm and 1.3 mm."
   ]
  },
  {
   "cell_type": "markdown",
   "metadata": {},
   "source": [
    "### Solution\n",
    "The probability density function (PDF) of a normal distribution with mean μ and standard deviation σ is given by:\n",
    "\n",
    "`f(x) = (1 / (σ * sqrt(2 * π))) * exp(-(x - μ)^2 / (2 * σ^2))`\n",
    "\n"
   ]
  },
  {
   "cell_type": "code",
   "execution_count": 217,
   "metadata": {
    "scrolled": true
   },
   "outputs": [
    {
     "data": {
      "image/png": "[encoded data removed]",
      "text/plain": [
       "<Figure size 432x288 with 1 Axes>"
      ]
     },
     "metadata": {
      "needs_background": "light"
     },
     "output_type": "display_data"
    },
    {
     "name": "stdout",
     "output_type": "stream",
     "text": [
      "Probability that the thickness is between 1.1 mm and 1.3 mm: 0.9544997361036409\n"
     ]
    }
   ],
   "source": [
    "import numpy as np\n",
    "import matplotlib.pyplot as plt\n",
    "from scipy import integrate\n",
    "\n",
    "# Define the parameters of the normal distribution\n",
    "mean = 1.2\n",
    "std_dev = 0.05\n",
    "\n",
    "# Define the probability density function (PDF) for normal distribution\n",
    "def pdf(x, mean, std_dev):\n",
    "    return (1 / (std_dev * np.sqrt(2 * np.pi))) * np.exp(-((x - mean) ** 2) / (2 * std_dev ** 2))\n",
    "\n",
    "# Generate a range of x values from 1.0 mm to 1.4 mm\n",
    "x = np.linspace(1.0, 1.4, 100)\n",
    "\n",
    "# Calculate the corresponding PDF values\n",
    "y_pdf = pdf(x, mean, std_dev)\n",
    "\n",
    "# Plot the PDF\n",
    "plt.plot(x, y_pdf)\n",
    "plt.xlabel('Thickness (mm)')\n",
    "plt.ylabel('f(x)')\n",
    "plt.title('Probability Density Function (PDF) of Thickness')\n",
    "plt.grid(True)\n",
    "plt.show()\n",
    "\n",
    "# Calculate the probability that the thickness is between 1.1 mm and 1.3 mm\n",
    "lower_bound = 1.1\n",
    "upper_bound = 1.3\n",
    "p_between_1_1_and_1_3 = integrate.quad(lambda x: pdf(x, mean, std_dev), lower_bound, upper_bound)[0]\n",
    "print(\"Probability that the thickness is between 1.1 mm and 1.3 mm:\", p_between_1_1_and_1_3)\n"
   ]
  },
  {
   "cell_type": "markdown",
   "metadata": {},
   "source": [
    "[CDF of Normal Distribution](https://en.wikipedia.org/wiki/Normal_distribution) : ![image.png](data:image/png;base64,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)"
   ]
  },
  {
   "cell_type": "code",
   "execution_count": 218,
   "metadata": {},
   "outputs": [
    {
     "data": {
      "text/plain": [
       "0.9544997361036414"
      ]
     },
     "execution_count": 218,
     "metadata": {},
     "output_type": "execute_result"
    }
   ],
   "source": [
    "# Define the CDF function for normal distribution\n",
    "def cdf(x, mean, std_dev):\n",
    "    return (1 + np.math.erf((x - mean) / (std_dev * np.sqrt(2)))) / 2\n",
    "\n",
    "cdf(1.3, mean, std_dev) - cdf(1.1, mean, std_dev)"
   ]
  },
  {
   "cell_type": "markdown",
   "metadata": {
    "id": "dAdx6PG4XfIS"
   },
   "source": [
    "### Q-9 : A data scientist is investigating the distribution of customer ages in a retail store. She collects a sample of 100 ages and estimates the probability density function using kernel density estimation. What bandwidth should she choose to obtain the best estimate?"
   ]
  },
  {
   "cell_type": "markdown",
   "metadata": {},
   "source": [
    "#### Solution:\n",
    "\n",
    "Choosing the best bandwidth for KDE involves finding a balance between overfitting and underfitting. If the bandwidth is too small, the estimated PDF may have a lot of small, spurious oscillations or noise, which may not accurately represent the underlying distribution of the data. On the other hand, if the bandwidth is too large, the estimated PDF may be overly smooth and may not capture the finer details or variations in the data.\n",
    "\n",
    "There are several methods that can be used to select the optimal bandwidth for KDE, including cross-validation, rule-of-thumb methods (e.g., Scott's rule, Silverman's rule), and optimization techniques (e.g., maximum likelihood estimation).\n",
    "\n",
    "One common rule-of-thumb method for choosing the bandwidth in KDE is Scott's rule, which is given by:\n",
    "\n",
    "`h = 1.06 * sigma * n^(-1/5)`\n",
    "\n",
    "where `h` is the bandwidth, sigma is the standard deviation of the data, and `n` is the number of data points in the sample. Scott's rule is often used as a default bandwidth choice in many KDE implementations."
   ]
  },
  {
   "cell_type": "code",
   "execution_count": 219,
   "metadata": {
    "id": "M2LFDO73Xh1w"
   },
   "outputs": [
    {
     "name": "stdout",
     "output_type": "stream",
     "text": [
      "Best bandwidth: 4.328761281083059\n"
     ]
    }
   ],
   "source": [
    "# answer here\n",
    "# Cross validation approach\n",
    "import numpy as np\n",
    "from sklearn.model_selection import GridSearchCV\n",
    "from sklearn.neighbors import KernelDensity\n",
    "\n",
    "# Generate a sample of 100 ages\n",
    "ages = np.random.normal(loc=40, scale=10, size=100)\n",
    "\n",
    "# Define the range of bandwidths to test\n",
    "bandwidths = 10 ** np.linspace(-1, 1, 100)\n",
    "\n",
    "# Define the parameters for the kernel density estimator\n",
    "params = {'bandwidth': bandwidths, 'kernel': ['gaussian']}\n",
    "\n",
    "# Create a GridSearchCV object to find the best bandwidth\n",
    "grid = GridSearchCV(KernelDensity(), params, cv=5)\n",
    "grid.fit(ages.reshape(-1, 1))\n",
    "\n",
    "# Extract the best bandwidth from the GridSearchCV object\n",
    "best_bandwidth = grid.best_estimator_.bandwidth\n",
    "print('Best bandwidth:', best_bandwidth)\n"
   ]
  },
  {
   "cell_type": "code",
   "execution_count": 220,
   "metadata": {},
   "outputs": [
    {
     "name": "stdout",
     "output_type": "stream",
     "text": [
      "Scott rule bandwidth: 4.219936007867071\n"
     ]
    }
   ],
   "source": [
    "# Scott rule bandwidth\n",
    "# h = 1.06 * sigma * n^(-1/5)\n",
    "h = 1.06 * 10 * (100**(-1/5))\n",
    "print(\"Scott rule bandwidth:\", h)"
   ]
  },
  {
   "cell_type": "code",
   "execution_count": null,
   "metadata": {},
   "outputs": [],
   "source": []
  }
 ],
 "metadata": {
  "colab": {
   "provenance": []
  },
  "kernelspec": {
   "display_name": "Python 3 (ipykernel)",
   "language": "python",
   "name": "python3"
  },
  "language_info": {
   "codemirror_mode": {
    "name": "ipython",
    "version": 3
   },
   "file_extension": ".py",
   "mimetype": "text/x-python",
   "name": "python",
   "nbconvert_exporter": "python",
   "pygments_lexer": "ipython3",
   "version": "3.9.12"
  }
 },
 "nbformat": 4,
 "nbformat_minor": 1
}
